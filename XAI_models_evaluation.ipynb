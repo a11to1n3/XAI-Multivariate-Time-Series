{
 "cells": [
  {
   "cell_type": "code",
   "execution_count": 1,
   "id": "cloudy-scoop",
   "metadata": {},
   "outputs": [],
   "source": [
    "import torch\n",
    "import torch.nn as nn\n",
    "import torch.nn.functional as F\n",
    "from torch.utils import data\n",
    "from torchvision.models import vgg19\n",
    "from torchvision import transforms\n",
    "from torchvision import datasets\n",
    "from torchsummary import summary\n",
    "from torchviz import make_dot\n",
    "import matplotlib.pyplot as plt\n",
    "import numpy as np\n",
    "import os\n",
    "from utils.datasets import DatasetLoader\n",
    "from models.CAM_based_models import MTEXCNN"
   ]
  },
  {
   "cell_type": "markdown",
   "id": "sticky-ecology",
   "metadata": {},
   "source": [
    "# Load data"
   ]
  },
  {
   "cell_type": "code",
   "execution_count": 2,
   "id": "thermal-ballet",
   "metadata": {},
   "outputs": [],
   "source": [
    "# Load dataset\n",
    "\n",
    "dataset_path = './data/UWaveGestureLibrary'\n",
    "dataset = DatasetLoader(dataset_path)\n",
    "train_data, test_data = dataset.load_to_df()"
   ]
  },
  {
   "cell_type": "code",
   "execution_count": 3,
   "id": "common-surname",
   "metadata": {},
   "outputs": [],
   "source": [
    "X_train, y_train, X_test, y_test = dataset.load_to_nparray()"
   ]
  },
  {
   "cell_type": "code",
   "execution_count": 4,
   "id": "indie-night",
   "metadata": {},
   "outputs": [
    {
     "data": {
      "text/plain": [
       "(120, 3, 315)"
      ]
     },
     "metadata": {},
     "output_type": "display_data"
    },
    {
     "data": {
      "text/plain": [
       "(120,)"
      ]
     },
     "metadata": {},
     "output_type": "display_data"
    },
    {
     "data": {
      "text/plain": [
       "(320, 3, 315)"
      ]
     },
     "metadata": {},
     "output_type": "display_data"
    },
    {
     "data": {
      "text/plain": [
       "(320,)"
      ]
     },
     "metadata": {},
     "output_type": "display_data"
    }
   ],
   "source": [
    "display(X_train.shape, y_train.shape, X_test.shape, y_test.shape)"
   ]
  },
  {
   "cell_type": "markdown",
   "id": "sought-lesbian",
   "metadata": {},
   "source": [
    "# CAM-based"
   ]
  },
  {
   "cell_type": "markdown",
   "id": "acquired-hazard",
   "metadata": {},
   "source": [
    "## MTEX-CNN"
   ]
  },
  {
   "cell_type": "code",
   "execution_count": 5,
   "id": "bibliographic-soundtrack",
   "metadata": {},
   "outputs": [
    {
     "data": {
      "text/plain": [
       "MTEXCNN(\n",
       "  (conv_1): Conv2d(1, 16, kernel_size=(158, 1), stride=(1, 1))\n",
       "  (conv_2): Conv2d(16, 32, kernel_size=(79, 1), stride=(1, 1))\n",
       "  (conv_3): Conv2d(32, 1, kernel_size=(1, 1), stride=(1, 1))\n",
       "  (conv_4): Conv1d(3, 64, kernel_size=(3,), stride=(1,))\n",
       "  (linear_1): Linear(in_features=4992, out_features=32, bias=True)\n",
       "  (linear_2): Linear(in_features=32, out_features=8, bias=True)\n",
       ")"
      ]
     },
     "execution_count": 5,
     "metadata": {},
     "output_type": "execute_result"
    }
   ],
   "source": [
    "net = MTEXCNN(X_train.shape[2], len(np.unique(y_train)))\n",
    "net"
   ]
  },
  {
   "cell_type": "code",
   "execution_count": 6,
   "id": "adolescent-burning",
   "metadata": {},
   "outputs": [
    {
     "name": "stdout",
     "output_type": "stream",
     "text": [
      "----------------------------------------------------------------\n",
      "        Layer (type)               Output Shape         Param #\n",
      "================================================================\n",
      "            Conv2d-1           [-1, 16, 158, 3]           2,544\n",
      "            Conv2d-2            [-1, 32, 80, 3]          40,480\n",
      "            Conv2d-3             [-1, 1, 80, 3]              33\n",
      "            Conv1d-4               [-1, 64, 78]             640\n",
      "            Linear-5                   [-1, 32]         159,776\n",
      "            Linear-6                    [-1, 8]             264\n",
      "================================================================\n",
      "Total params: 203,737\n",
      "Trainable params: 203,737\n",
      "Non-trainable params: 0\n",
      "----------------------------------------------------------------\n",
      "Input size (MB): 0.00\n",
      "Forward/backward pass size (MB): 0.16\n",
      "Params size (MB): 0.78\n",
      "Estimated Total Size (MB): 0.94\n",
      "----------------------------------------------------------------\n"
     ]
    }
   ],
   "source": [
    "summary(net, (1,315,3))"
   ]
  },
  {
   "cell_type": "code",
   "execution_count": null,
   "id": "concerned-cradle",
   "metadata": {},
   "outputs": [],
   "source": []
  }
 ],
 "metadata": {
  "kernelspec": {
   "display_name": "Python 3",
   "language": "python",
   "name": "python3"
  },
  "language_info": {
   "codemirror_mode": {
    "name": "ipython",
    "version": 3
   },
   "file_extension": ".py",
   "mimetype": "text/x-python",
   "name": "python",
   "nbconvert_exporter": "python",
   "pygments_lexer": "ipython3",
   "version": "3.7.10"
  }
 },
 "nbformat": 4,
 "nbformat_minor": 5
}
