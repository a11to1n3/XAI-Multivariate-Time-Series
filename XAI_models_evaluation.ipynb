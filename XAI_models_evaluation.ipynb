{
 "cells": [
  {
   "cell_type": "code",
   "execution_count": 1,
   "id": "homeless-fusion",
   "metadata": {},
   "outputs": [],
   "source": [
    "import torch\n",
    "import torch.nn as nn\n",
    "from torch.utils import data\n",
    "from torchvision.models import vgg19\n",
    "from torchvision import transforms\n",
    "from torchvision import datasets\n",
    "import matplotlib.pyplot as plt\n",
    "import numpy as np\n",
    "import os\n",
    "from utils.datasets import DatasetLoader"
   ]
  },
  {
   "cell_type": "markdown",
   "id": "funny-pregnancy",
   "metadata": {},
   "source": [
    "# CAM-based"
   ]
  },
  {
   "cell_type": "markdown",
   "id": "equal-player",
   "metadata": {},
   "source": [
    "## MTEX-CNN"
   ]
  },
  {
   "cell_type": "code",
   "execution_count": 2,
   "id": "wrong-concord",
   "metadata": {},
   "outputs": [],
   "source": [
    "# Load dataset\n",
    "dataset_path = './data/UWaveGestureLibrary'\n",
    "dataset = DatasetLoader(dataset_path)\n",
    "train_data, test_data = dataset.load_to_df()"
   ]
  },
  {
   "cell_type": "code",
   "execution_count": 3,
   "id": "usual-bathroom",
   "metadata": {},
   "outputs": [],
   "source": [
    "X_train, y_train, X_test, y_test = dataset.load_to_nparray()"
   ]
  },
  {
   "cell_type": "code",
   "execution_count": 9,
   "id": "shaped-miniature",
   "metadata": {},
   "outputs": [
    {
     "data": {
      "text/plain": [
       "(120, 3, 315)"
      ]
     },
     "metadata": {},
     "output_type": "display_data"
    },
    {
     "data": {
      "text/plain": [
       "(120,)"
      ]
     },
     "metadata": {},
     "output_type": "display_data"
    },
    {
     "data": {
      "text/plain": [
       "(320, 3, 315)"
      ]
     },
     "metadata": {},
     "output_type": "display_data"
    },
    {
     "data": {
      "text/plain": [
       "(320,)"
      ]
     },
     "metadata": {},
     "output_type": "display_data"
    }
   ],
   "source": [
    "display(X_train.shape, y_train.shape, X_test.shape, y_test.shape)"
   ]
  },
  {
   "cell_type": "code",
   "execution_count": null,
   "id": "oriented-access",
   "metadata": {},
   "outputs": [],
   "source": []
  }
 ],
 "metadata": {
  "kernelspec": {
   "display_name": "Python 3",
   "language": "python",
   "name": "python3"
  },
  "language_info": {
   "codemirror_mode": {
    "name": "ipython",
    "version": 3
   },
   "file_extension": ".py",
   "mimetype": "text/x-python",
   "name": "python",
   "nbconvert_exporter": "python",
   "pygments_lexer": "ipython3",
   "version": "3.7.10"
  }
 },
 "nbformat": 4,
 "nbformat_minor": 5
}
