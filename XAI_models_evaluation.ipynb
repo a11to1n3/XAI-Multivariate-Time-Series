{
 "cells": [
  {
   "cell_type": "code",
   "execution_count": 1,
   "id": "english-battlefield",
   "metadata": {},
   "outputs": [],
   "source": [
    "import torch\n",
    "import torch.nn as nn\n",
    "import torch.nn.functional as F\n",
    "from torch.utils import data\n",
    "from torchvision.models import vgg19\n",
    "from torchvision import transforms\n",
    "from torchvision import datasets\n",
    "import matplotlib.pyplot as plt\n",
    "import numpy as np\n",
    "import os\n",
    "from utils.datasets import DatasetLoader"
   ]
  },
  {
   "cell_type": "markdown",
   "id": "expected-assist",
   "metadata": {},
   "source": [
    "# Load data"
   ]
  },
  {
   "cell_type": "code",
   "execution_count": 2,
   "id": "short-graph",
   "metadata": {},
   "outputs": [],
   "source": [
    "# Load dataset\n",
    "\n",
    "dataset_path = './data/UWaveGestureLibrary'\n",
    "dataset = DatasetLoader(dataset_path)\n",
    "train_data, test_data = dataset.load_to_df()"
   ]
  },
  {
   "cell_type": "code",
   "execution_count": 3,
   "id": "greater-advisory",
   "metadata": {},
   "outputs": [],
   "source": [
    "X_train, y_train, X_test, y_test = dataset.load_to_nparray()"
   ]
  },
  {
   "cell_type": "code",
   "execution_count": 4,
   "id": "posted-horse",
   "metadata": {},
   "outputs": [
    {
     "data": {
      "text/plain": [
       "(120, 3, 315)"
      ]
     },
     "metadata": {},
     "output_type": "display_data"
    },
    {
     "data": {
      "text/plain": [
       "(120,)"
      ]
     },
     "metadata": {},
     "output_type": "display_data"
    },
    {
     "data": {
      "text/plain": [
       "(320, 3, 315)"
      ]
     },
     "metadata": {},
     "output_type": "display_data"
    },
    {
     "data": {
      "text/plain": [
       "(320,)"
      ]
     },
     "metadata": {},
     "output_type": "display_data"
    }
   ],
   "source": [
    "display(X_train.shape, y_train.shape, X_test.shape, y_test.shape)"
   ]
  },
  {
   "cell_type": "code",
   "execution_count": 7,
   "id": "whole-accreditation",
   "metadata": {},
   "outputs": [
    {
     "data": {
      "text/plain": [
       "torch.Size([20, 33, 24])"
      ]
     },
     "execution_count": 7,
     "metadata": {},
     "output_type": "execute_result"
    }
   ],
   "source": [
    "m = nn.Conv1d(16, 33, 3, stride=2)\n",
    "input = torch.randn(20, 16, 50)\n",
    "output = m(input)\n",
    "output.shape"
   ]
  },
  {
   "cell_type": "markdown",
   "id": "structured-integer",
   "metadata": {},
   "source": [
    "# CAM-based"
   ]
  },
  {
   "cell_type": "markdown",
   "id": "altered-irish",
   "metadata": {},
   "source": [
    "## MTEX-CNN"
   ]
  },
  {
   "cell_type": "code",
   "execution_count": 13,
   "id": "unsigned-power",
   "metadata": {},
   "outputs": [],
   "source": [
    "class MTEXCNN(nn.Module):\n",
    "    def __init__(self, time_length, n_classes):\n",
    "        super(MTEXCNN, self).__init__()\n",
    "        self.conv_1 = nn.Conv2d(1, 16, (time_length//2 + 1, 1))\n",
    "        self.conv_2 = nn.Conv2d(16, 32, (time_length//4 + 1, 1))\n",
    "        self.conv_3 = nn.Conv2d(32, 1, 1)\n",
    "        self.conv_4 = nn.Conv1d(3, 64, 3)\n",
    "        self.linear_1 = nn.Linear(time_length//4 + 1 - 2, 16)\n",
    "        self.linear_2 = nn.Linear(16, n_classes)\n",
    "        \n",
    "    def forward(self, x):\n",
    "        x = self.conv_1(x)\n",
    "        x = nn.ReLU(x)\n",
    "        x = self.conv_2(x)\n",
    "        x = nn.ReLU(x)\n",
    "        x = self.conv_3(x)\n",
    "        x = nn.ReLU(x)\n",
    "        x = self.conv_4(x)\n",
    "        x = nn.ReLU(x)\n",
    "        x = x.view(x.size(0),-1)\n",
    "        x = self.linear_1(x)\n",
    "        x = self.linear_2(x)"
   ]
  },
  {
   "cell_type": "code",
   "execution_count": 15,
   "id": "liable-primary",
   "metadata": {},
   "outputs": [
    {
     "data": {
      "text/plain": [
       "MTEXCNN(\n",
       "  (conv_1): Conv2d(1, 16, kernel_size=(158, 1), stride=(1, 1))\n",
       "  (conv_2): Conv2d(16, 32, kernel_size=(79, 1), stride=(1, 1))\n",
       "  (conv_3): Conv2d(32, 1, kernel_size=(1, 1), stride=(1, 1))\n",
       "  (conv_4): Conv1d(3, 64, kernel_size=(3,), stride=(1,))\n",
       "  (linear_1): Linear(in_features=77, out_features=16, bias=True)\n",
       "  (linear_2): Linear(in_features=16, out_features=8, bias=True)\n",
       ")"
      ]
     },
     "execution_count": 15,
     "metadata": {},
     "output_type": "execute_result"
    }
   ],
   "source": [
    "net = MTEXCNN(X_train.shape[2], len(np.unique(y_train)))\n",
    "net"
   ]
  },
  {
   "cell_type": "code",
   "execution_count": null,
   "id": "administrative-desire",
   "metadata": {},
   "outputs": [],
   "source": [
    "|"
   ]
  }
 ],
 "metadata": {
  "kernelspec": {
   "display_name": "Python 3",
   "language": "python",
   "name": "python3"
  },
  "language_info": {
   "codemirror_mode": {
    "name": "ipython",
    "version": 3
   },
   "file_extension": ".py",
   "mimetype": "text/x-python",
   "name": "python",
   "nbconvert_exporter": "python",
   "pygments_lexer": "ipython3",
   "version": "3.7.10"
  }
 },
 "nbformat": 4,
 "nbformat_minor": 5
}
